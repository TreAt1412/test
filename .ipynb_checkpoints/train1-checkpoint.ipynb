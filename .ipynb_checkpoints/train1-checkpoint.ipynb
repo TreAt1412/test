{
 "cells": [
  {
   "cell_type": "code",
   "execution_count": 10,
   "metadata": {},
   "outputs": [],
   "source": [
    "import re\n",
    "import numpy as np\n",
    "from matplotlib import pyplot as plt\n",
    "\n"
   ]
  },
  {
   "cell_type": "code",
   "execution_count": 28,
   "metadata": {},
   "outputs": [],
   "source": [
    "x_train, x_test, y_train, y_test = [],[],[],[]\n",
    "with open('breast-cancer-wisconsin.data', 'r') as f:\n",
    "    for line in f:\n",
    "        line = line.replace('?', '5')\n",
    "        line = list(map(int, line.split(',')))\n",
    "        if len(x_train) < 550:\n",
    "            x_train.append(line[1: 10])\n",
    "            y_train.append(line[10] // 2 - 1)\n",
    "        else:\n",
    "            x_test.append(line[1: 10])\n",
    "            y_test.append(line[10] // 2 - 1)"
   ]
  },
  {
   "cell_type": "code",
   "execution_count": 37,
   "metadata": {},
   "outputs": [
    {
     "data": {
      "text/plain": [
       "550"
      ]
     },
     "execution_count": 37,
     "metadata": {},
     "output_type": "execute_result"
    }
   ],
   "source": [
    "x_train = np.matrix(x_train)\n",
    "y_train = np.matrix(y_train)\n",
    "x_test = np.matrix(x_test)\n",
    "y_test = np.matrix(y_test)"
   ]
  },
  {
   "cell_type": "code",
   "execution_count": null,
   "metadata": {},
   "outputs": [],
   "source": [
    "ls = []\n",
    "lr = 0.08\n",
    "epoch = 100"
   ]
  },
  {
   "cell_type": "code",
   "execution_count": null,
   "metadata": {},
   "outputs": [],
   "source": [
    "def sigmoid(x):\n",
    "    return 1 / (1 + np.exp(-x))"
   ]
  },
  {
   "cell_type": "code",
   "execution_count": null,
   "metadata": {},
   "outputs": [],
   "source": [
    "w1 = np.random.randint(9, size=(9, 300))\n",
    "w1 = np.matrix(w1)\n",
    "w2 = np.random.randint(9, size=(300, 1))\n",
    "w2 = np.matrix(w2)"
   ]
  },
  {
   "cell_type": "code",
   "execution_count": null,
   "metadata": {},
   "outputs": [],
   "source": [
    "for _ in range(epoch):\n",
    "    z1 = x_train.dot(w1)\n",
    "    l1 = sigmoid(z1)\n",
    "    z2 = l1.dot(w2)\n",
    "    y = sigmoid(z2)\n",
    "    d2 = l1.transpose().dot(1 / len(x_train) * np.multiply(y, 1- y, (y - y_train)))\n",
    "    print(y)"
   ]
  },
  {
   "cell_type": "code",
   "execution_count": null,
   "metadata": {},
   "outputs": [],
   "source": []
  }
 ],
 "metadata": {
  "kernelspec": {
   "display_name": "Python 3",
   "language": "python",
   "name": "python3"
  },
  "language_info": {
   "codemirror_mode": {
    "name": "ipython",
    "version": 3
   },
   "file_extension": ".py",
   "mimetype": "text/x-python",
   "name": "python",
   "nbconvert_exporter": "python",
   "pygments_lexer": "ipython3",
   "version": "3.6.5"
  }
 },
 "nbformat": 4,
 "nbformat_minor": 2
}
