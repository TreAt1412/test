{
 "cells": [
  {
   "cell_type": "code",
   "execution_count": 44,
   "metadata": {},
   "outputs": [],
   "source": [
    "import numpy as np\n",
    "import copy"
   ]
  },
  {
   "cell_type": "code",
   "execution_count": 45,
   "metadata": {},
   "outputs": [],
   "source": [
    "data = []\n",
    "with open('wdbc.data', 'r') as f:\n",
    "    for line in f:\n",
    "        line = list(map(float, line.replace('B', '0').replace('M', '1').split(',')))\n",
    "        line = line[:2] + [x / 100 for x in line[2:]] \n",
    "        data.append(line)"
   ]
  },
  {
   "cell_type": "code",
   "execution_count": 46,
   "metadata": {},
   "outputs": [],
   "source": [
    "def chunker_list(ls, x):\n",
    "    a = []\n",
    "    for i in range(x):\n",
    "        a.append([])\n",
    "        a[i] += ls[i*len(ls)//x: i*len(ls)//x + len(ls)//x]\n",
    "    return a    "
   ]
  },
  {
   "cell_type": "code",
   "execution_count": 47,
   "metadata": {},
   "outputs": [],
   "source": [
    "X, Y = [], []\n",
    "for i in data:\n",
    "    X.append(i[2:])\n",
    "    Y.append(int(i[1]))\n",
    "t =len(X)    "
   ]
  },
  {
   "cell_type": "code",
   "execution_count": 48,
   "metadata": {},
   "outputs": [],
   "source": [
    "def divide(a, i):\n",
    "    n = len(a)//5 \n",
    "    y = a[n*i: n*i+n]\n",
    "    x = copy.deepcopy(a)\n",
    "    x[n*i: n*i+n] = []\n",
    "    return x, y"
   ]
  },
  {
   "cell_type": "code",
   "execution_count": 49,
   "metadata": {},
   "outputs": [],
   "source": [
    "w1 = np.random.rand(30, 20)\n",
    "w2 = np.random.rand(20, 1)"
   ]
  },
  {
   "cell_type": "code",
   "execution_count": 50,
   "metadata": {},
   "outputs": [],
   "source": [
    "learning_rate = 0.3\n",
    "acu = []\n"
   ]
  },
  {
   "cell_type": "code",
   "execution_count": 51,
   "metadata": {},
   "outputs": [],
   "source": [
    "def sigmoid(x):\n",
    "    return 1 / (1 + np.exp(-x))"
   ]
  },
  {
   "cell_type": "code",
   "execution_count": 52,
   "metadata": {},
   "outputs": [
    {
     "name": "stdout",
     "output_type": "stream",
     "text": [
      "0.8761061946902655\n",
      "0.9026548672566371\n",
      "0.9646017699115044\n",
      "0.9380530973451328\n",
      "0.9292035398230089\n"
     ]
    }
   ],
   "source": [
    "for i in range(5):\n",
    "    x_train, x_test = divide(X, i)\n",
    "    y_train, y_test = divide(Y, i)\n",
    "    x_train = np.matrix(x_train)\n",
    "    y_train = np.matrix(y_train).transpose()\n",
    "    n = len(x_train)\n",
    "    for _ in range(1000):\n",
    "        Z1 = x_train.dot(w1)\n",
    "        L1 = sigmoid(Z1)\n",
    "        Z2 = L1.dot(w2)\n",
    "        y_hat = sigmoid(Z2)\n",
    "        dW1 = x_train.transpose().dot(np.multiply(np.multiply(y_hat-y_train,y_hat,1-y_hat).dot(w2.transpose()),L1,1-L1))/n\n",
    "        dW2 = L1.transpose().dot(np.multiply(y_hat-y_train,y_hat,1-y_hat))/n\n",
    "        w1 = w1 - learning_rate * dW1\n",
    "        w2 = w2 - learning_rate * dW2\n",
    "    x_test = np.array(x_test)    \n",
    "    a = sigmoid(sigmoid(x_test.dot(w1)).dot(w2))\n",
    "    X1 = []\n",
    "    for i in a:\n",
    "        if i > 0.5:\n",
    "            X1.append(1)\n",
    "        else:\n",
    "            X1.append(0)\n",
    "    count = 0\n",
    "    for i in range(len(y_test)):\n",
    "        if X1[i] == y_test[i]:\n",
    "            count+= 1 \n",
    "    print(count/len(y_test))        "
   ]
  },
  {
   "cell_type": "code",
   "execution_count": null,
   "metadata": {},
   "outputs": [],
   "source": []
  },
  {
   "cell_type": "code",
   "execution_count": null,
   "metadata": {},
   "outputs": [],
   "source": []
  },
  {
   "cell_type": "code",
   "execution_count": null,
   "metadata": {},
   "outputs": [],
   "source": []
  }
 ],
 "metadata": {
  "kernelspec": {
   "display_name": "Python 3",
   "language": "python",
   "name": "python3"
  },
  "language_info": {
   "codemirror_mode": {
    "name": "ipython",
    "version": 3
   },
   "file_extension": ".py",
   "mimetype": "text/x-python",
   "name": "python",
   "nbconvert_exporter": "python",
   "pygments_lexer": "ipython3",
   "version": "3.6.5"
  }
 },
 "nbformat": 4,
 "nbformat_minor": 2
}
